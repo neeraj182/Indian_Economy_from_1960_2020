{
 "cells": [
  {
   "cell_type": "code",
   "execution_count": null,
   "metadata": {},
   "outputs": [],
   "source": [
    "import pandas as pd\n",
    "data = pd.read_csv('/home/neji/Downloads/indianEco.csv', index_col=0)\n",
    "print(data.head)"
   ]
  },
  {
   "cell_type": "code",
   "execution_count": 30,
   "metadata": {},
   "outputs": [
    {
     "name": "stdout",
     "output_type": "stream",
     "text": [
      "4.94\n",
      "7.41\n",
      "1.93\n",
      "57.0\n",
      "575.56\n",
      "12.75\n",
      "10.89\n"
     ]
    }
   ],
   "source": [
    "import pandas as pd\n",
    "import numpy as np\n",
    "data = pd.read_csv('/home/neji/Downloads/indianEco.csv', index_col=0)\n",
    "avg_GDP_growth = np.round(data[\"GDP growth (annual %)\"].mean(), decimals=2)\n",
    "print(avg_GDP_growth)\n",
    "avg_Inflation_rate = np.round(data[\"Inflation, consumer prices (annual %)\"].mean(), decimals=2)\n",
    "print(avg_Inflation_rate)\n",
    "avg_Pop_growth = np.round(data[\"Population growth (annual %)\"].mean(), decimals=2)\n",
    "print(avg_Pop_growth)\n",
    "avg_Life_expectancy = np.round(data[\"Life expectancy at birth, total (years)\"].mean(), decimals=0)\n",
    "print(avg_Life_expectancy)\n",
    "avg_GDP_per_capita = np.round(data[\" GDP per capita (current US$) \"].mean(), decimals=2)\n",
    "print(avg_GDP_per_capita)\n",
    "avg_Imports = np.round(data[\"Imports of goods and services (% of GDP)\"].mean(), decimals=2)\n",
    "print(avg_Imports)\n",
    "avg_Exports = np.round(data[\"Exports of goods and services (% of GDP)\"].mean(), decimals=2)\n",
    "print(avg_Exports)"
   ]
  },
  {
   "cell_type": "markdown",
   "metadata": {},
   "source": [
    "## 1st Analysis\n",
    "1. The Average GDP growth (annual) within the span of these 60 years was of 4.94%.\n",
    "2. The Average Life expectancy (annual) within the span of these 60 years was of 57 years. \n"
   ]
  }
 ],
 "metadata": {
  "kernelspec": {
   "display_name": "Python 3.10.6 64-bit",
   "language": "python",
   "name": "python3"
  },
  "language_info": {
   "codemirror_mode": {
    "name": "ipython",
    "version": 3
   },
   "file_extension": ".py",
   "mimetype": "text/x-python",
   "name": "python",
   "nbconvert_exporter": "python",
   "pygments_lexer": "ipython3",
   "version": "3.10.6"
  },
  "orig_nbformat": 4,
  "vscode": {
   "interpreter": {
    "hash": "916dbcbb3f70747c44a77c7bcd40155683ae19c65e1c03b4aa3499c5328201f1"
   }
  }
 },
 "nbformat": 4,
 "nbformat_minor": 2
}
