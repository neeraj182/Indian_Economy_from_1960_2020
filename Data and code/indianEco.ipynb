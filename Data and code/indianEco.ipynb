{
 "cells": [
  {
   "cell_type": "code",
   "execution_count": null,
   "metadata": {},
   "outputs": [],
   "source": [
    "import pandas as pd\n",
    "data = pd.read_csv('/home/neji/Downloads/indianEco.csv', index_col=0)\n",
    "print(data.head)"
   ]
  },
  {
   "cell_type": "code",
   "execution_count": null,
   "metadata": {},
   "outputs": [],
   "source": [
    "import pandas as pd\n",
    "import numpy as np\n",
    "data = pd.read_csv('/home/neji/Downloads/indianEco.csv', index_col=0)\n",
    "# GDP growth (%)\n",
    "avg_GDP_growth = np.round(data[\"GDP growth (annual %)\"].mean(), decimals=2)\n",
    "print(avg_GDP_growth)\n",
    "# Inflation rate (%)\n",
    "avg_Inflation_rate = np.round(data[\"Inflation, consumer prices (annual %)\"].mean(), decimals=2)\n",
    "print(avg_Inflation_rate)\n",
    "# Population growth (%)\n",
    "avg_Pop_growth = np.round(data[\"Population growth (annual %)\"].mean(), decimals=2)\n",
    "print(avg_Pop_growth)\n",
    "# Life expectancy \n",
    "avg_Life_expectancy = np.round(data[\"Life expectancy at birth, total (years)\"].mean(), decimals=0)\n",
    "print(avg_Life_expectancy)\n",
    "# GDP per capita\n",
    "avg_GDP_per_capita = np.round(data[\" GDP per capita (current US$) \"].mean(), decimals=2)\n",
    "print(avg_GDP_per_capita)\n",
    "# Imports\n",
    "avg_Imports = np.round(data[\"Imports of goods and services (% of GDP)\"].mean(), decimals=2)\n",
    "print(avg_Imports)\n",
    "# Exports\n",
    "avg_Exports = np.round(data[\"Exports of goods and services (% of GDP)\"].mean(), decimals=2)\n",
    "print(avg_Exports)"
   ]
  },
  {
   "cell_type": "code",
   "execution_count": null,
   "metadata": {},
   "outputs": [],
   "source": [
    "import pandas as pd\n",
    "data = pd.read_csv('/home/neji/Downloads/indianEco.csv', index_col=0)\n",
    "print(data.sort_values(\" GDP per capita (current US$) \", ascending=False))"
   ]
  },
  {
   "cell_type": "code",
   "execution_count": null,
   "metadata": {},
   "outputs": [],
   "source": [
    "import pandas as pd\n",
    "import numpy as np\n",
    "data = pd.read_csv('/home/neji/Downloads/indianEco.csv', index_col=0)\n",
    "avg_GDP_per_capita = np.round(data[\" GDP per capita (current US$) \"].mean(), decimals=2)\n",
    "print(data[data[\" GDP per capita (current US$) \"] > avg_GDP_per_capita])"
   ]
  },
  {
   "cell_type": "code",
   "execution_count": null,
   "metadata": {},
   "outputs": [],
   "source": [
    "import pandas as pd\n",
    "import numpy as np\n",
    "data = pd.read_csv('/home/neji/Downloads/indianEco.csv', index_col=0)\n",
    "avg_GDP_growth = np.round(data[\"GDP growth (annual %)\"].mean(), decimals=2)\n",
    "print(data[data[\"GDP growth (annual %)\"] > avg_GDP_growth])"
   ]
  },
  {
   "cell_type": "code",
   "execution_count": null,
   "metadata": {},
   "outputs": [],
   "source": [
    "import pandas as pd\n",
    "import numpy as np\n",
    "data = pd.read_csv('/home/neji/Downloads/indianEco.csv', index_col=0)\n",
    "avg_GDP_growth = np.round(data[\"GDP growth (annual %)\"].mean(), decimals=2)\n",
    "print(data[data[\"GDP growth (annual %)\"] > 6])"
   ]
  },
  {
   "cell_type": "code",
   "execution_count": null,
   "metadata": {},
   "outputs": [],
   "source": [
    "import pandas as pd\n",
    "import numpy as np\n",
    "data = pd.read_csv('/home/neji/Downloads/indianEco.csv', index_col=0)\n",
    "avg_Pop_growth = np.round(data[\"Population growth (annual %)\"].mean(), decimals=2)\n",
    "print(data[data[\"Population growth (annual %)\"] >= avg_Pop_growth])"
   ]
  },
  {
   "cell_type": "code",
   "execution_count": null,
   "metadata": {},
   "outputs": [],
   "source": [
    "import pandas as pd\n",
    "import numpy as np\n",
    "data = pd.read_csv('/home/neji/Downloads/indianEco.csv', index_col=0)\n",
    "avg_Inflation_rate = np.round(data[\"Inflation, consumer prices (annual %)\"].mean(), decimals=2)\n",
    "print(data[data[\"Inflation, consumer prices (annual %)\"] >= avg_Inflation_rate])"
   ]
  },
  {
   "cell_type": "code",
   "execution_count": null,
   "metadata": {},
   "outputs": [],
   "source": [
    "import pandas as pd\n",
    "import numpy as np\n",
    "data = pd.read_csv('/home/neji/Downloads/indianEco.csv', index_col=0)\n",
    "avg_Imports = np.round(data[\"Imports of goods and services (% of GDP)\"].mean(), decimals=2)\n",
    "avg_Exports = np.round(data[\"Exports of goods and services (% of GDP)\"].mean(), decimals=2)\n",
    "print(data[ (data[\"Exports of goods and services (% of GDP)\"] >= avg_Exports ) & (data[\"Imports of goods and services (% of GDP)\"] >= avg_Imports)])"
   ]
  },
  {
   "cell_type": "code",
   "execution_count": null,
   "metadata": {},
   "outputs": [],
   "source": []
  }
 ],
 "metadata": {
  "kernelspec": {
   "display_name": "Python 3.10.6 64-bit",
   "language": "python",
   "name": "python3"
  },
  "language_info": {
   "codemirror_mode": {
    "name": "ipython",
    "version": 3
   },
   "file_extension": ".py",
   "mimetype": "text/x-python",
   "name": "python",
   "nbconvert_exporter": "python",
   "pygments_lexer": "ipython3",
   "version": "3.10.6"
  },
  "orig_nbformat": 4,
  "vscode": {
   "interpreter": {
    "hash": "916dbcbb3f70747c44a77c7bcd40155683ae19c65e1c03b4aa3499c5328201f1"
   }
  }
 },
 "nbformat": 4,
 "nbformat_minor": 2
}
